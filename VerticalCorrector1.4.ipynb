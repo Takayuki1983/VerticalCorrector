{
 "cells": [
  {
   "cell_type": "markdown",
   "metadata": {},
   "source": [
    "<b><font color=\"blue\">回転の方向を保持したままExif情報を一括で消去するツールです</font></b>\n",
    "\n",
    "上書き保存されるので注意。フォルダー選択の後、画像拡張子（.JPG、.jpgなど）を指定してください。処理が始まります。<br>\n",
    "既にExif情報が消去された画像が混じっているとエラーになります。\n"
   ]
  },
  {
   "cell_type": "code",
   "execution_count": 1,
   "metadata": {
    "code_folding": [
     6,
     16
    ],
    "scrolled": false
   },
   "outputs": [
    {
     "name": "stdout",
     "output_type": "stream",
     "text": [
      "画像の拡張子は？(.も含めて入力)：.JPG\n",
      "画像数：38\n",
      "進捗100.0 ％"
     ]
    }
   ],
   "source": [
    "import os\n",
    "import sys\n",
    "import shutil\n",
    "import tkinter, tkinter.filedialog\n",
    "from PIL import Image\n",
    "\n",
    "def find_all_files(directory):#ディレクトリ以下全てをリスト化する定義\n",
    "    for root, dirs, files in os.walk(directory):\n",
    "        yield root\n",
    "        for file in files:\n",
    "            yield os.path.join(root, file)\n",
    "\n",
    "root = tkinter.Tk()\n",
    "root.withdraw()\n",
    "msg = '画像フォルダーを選択してください。※Exif情報が消えます。'\n",
    "img_dir_path = tkinter.filedialog.askdirectory(title=msg)\n",
    "if (not img_dir_path): #[キャンセル]クリック時の処理\n",
    "    print('フォルダーを選んでください。')\n",
    "    sys.exit()\n",
    "\n",
    "extension = input('画像の拡張子は？(.も含めて入力)：')    \n",
    "   \n",
    "pic = []\n",
    "\n",
    "for file in find_all_files(img_dir_path):\n",
    "    pic.append(file)\n",
    "    \n",
    "#extension = で定義したファイル名が含まれるパスがリスト化されます\n",
    "pic = [s for s in pic if extension in s]  \n",
    "print('画像数：' + str(len(pic)))\n",
    "\n",
    "i = 0\n",
    "while i < len(pic):\n",
    "    img = Image.open(pic[i])\n",
    "    #print(pic[i])\n",
    "    exif = img._getexif()\n",
    "    orientation = exif.get(0x112, 1)\n",
    "    \n",
    "    if orientation == 1:\n",
    "        #print('そのまま')\n",
    "        img.save(os.path.join(pic[i]), quality=100)\n",
    "    if orientation == 6:\n",
    "        img = img.rotate(270, expand=True)\n",
    "        img.save(os.path.join(pic[i]), quality=100)\n",
    "    if orientation == 8:\n",
    "        img = img.rotate(90, expand=True)\n",
    "        img.save(os.path.join(pic[i]), quality=100)\n",
    "    i = i + 1\n",
    "    percent = (int(i)/int(len(pic)))\n",
    "    print(\"\\r\"+'進捗'+str(round(100 * percent,1)) ,end=''+' ％')\n",
    "        \n",
    "#ここまで\n",
    "root.quit()\n",
    "exit()\n"
   ]
  },
  {
   "cell_type": "code",
   "execution_count": null,
   "metadata": {},
   "outputs": [],
   "source": []
  },
  {
   "cell_type": "code",
   "execution_count": null,
   "metadata": {},
   "outputs": [],
   "source": []
  }
 ],
 "metadata": {
  "kernelspec": {
   "display_name": "Python 3",
   "language": "python",
   "name": "python3"
  },
  "language_info": {
   "codemirror_mode": {
    "name": "ipython",
    "version": 3
   },
   "file_extension": ".py",
   "mimetype": "text/x-python",
   "name": "python",
   "nbconvert_exporter": "python",
   "pygments_lexer": "ipython3",
   "version": "3.7.3"
  },
  "toc": {
   "base_numbering": 1,
   "nav_menu": {},
   "number_sections": true,
   "sideBar": true,
   "skip_h1_title": false,
   "title_cell": "Table of Contents",
   "title_sidebar": "Contents",
   "toc_cell": false,
   "toc_position": {},
   "toc_section_display": true,
   "toc_window_display": false
  }
 },
 "nbformat": 4,
 "nbformat_minor": 2
}
